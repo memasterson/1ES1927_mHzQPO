{
 "cells": [
  {
   "cell_type": "markdown",
   "metadata": {},
   "source": [
    "# Code for comparing models of the QPO in 1ES 1927+654 (e.g. computation of WD mass accretion rate)"
   ]
  },
  {
   "cell_type": "code",
   "execution_count": 1,
   "metadata": {},
   "outputs": [
    {
     "name": "stderr",
     "output_type": "stream",
     "text": [
      "<frozen importlib._bootstrap>:228: RuntimeWarning: scipy._lib.messagestream.MessageStream size changed, may indicate binary incompatibility. Expected 56 from C header, got 64 from PyObject\n"
     ]
    }
   ],
   "source": [
    "# load packages\n",
    "import numpy as np \n",
    "import matplotlib.pyplot as plt\n",
    "import scipy.optimize as opt\n",
    "import scipy.integrate as integ\n",
    "import scipy.fft\n",
    "import os\n",
    "import astropy.stats as st\n",
    "from astropy import units as u\n",
    "from astropy import constants as const\n",
    "from astropy.io import fits\n",
    "from astropy.time import Time\n",
    "from astropy.table import Table\n",
    "from astropy.coordinates import SkyCoord\n",
    "import pandas as pd\n",
    "from matplotlib.ticker import ScalarFormatter, FormatStrFormatter, NullFormatter\n",
    "from matplotlib import ticker\n",
    "from matplotlib.colors import Normalize\n",
    "import json\n",
    "import glob\n",
    "# from redshift get d_L\n",
    "from astropy.cosmology import FlatLambdaCDM\n",
    "cosmo = FlatLambdaCDM(H0=70 * u.km / u.s / u.Mpc, Om0=0.3)\n",
    "# emcee stuff\n",
    "import multiprocessing as mp\n",
    "# from multiprocessing import Pool\n",
    "import emcee\n",
    "import corner\n",
    "import pylag\n",
    "from joblib import Parallel, delayed\n",
    "from scipy.stats import binned_statistic\n",
    "import scipy.stats as stats\n",
    "\n",
    "from timing import *\n",
    "\n",
    "# set up plotting defaults\n",
    "plt.rc('font', family='sans')\n",
    "params = {\n",
    "   'axes.labelsize': 45,\n",
    "   'axes.linewidth': 3,\n",
    "   'legend.fontsize': 30,\n",
    "   'legend.frameon': True,\n",
    "   'legend.fancybox': False,\n",
    "   'legend.framealpha': 0.8,\n",
    "   'legend.edgecolor': 'k',\n",
    "   'lines.linewidth': 2,\n",
    "   'font.size': 40,\n",
    "   'font.weight': 'normal',\n",
    "   'xtick.direction': 'in',\n",
    "   'xtick.labelsize': 35,\n",
    "   'xtick.color':'k',\n",
    "   'xtick.major.bottom': True,\n",
    "   'xtick.major.pad': 10,\n",
    "   'xtick.major.size': 18,\n",
    "   'xtick.major.width': 2,\n",
    "   'xtick.minor.bottom': True,\n",
    "   'xtick.minor.pad': 10,\n",
    "   'xtick.minor.size': 9,\n",
    "   'xtick.minor.top': True,\n",
    "   'xtick.minor.visible': True,\n",
    "   'xtick.minor.width': 2,\n",
    "   'xtick.top': True,\n",
    "   'ytick.direction': 'in',\n",
    "   'ytick.labelsize': 35,\n",
    "   'ytick.left': True,\n",
    "   'ytick.right': True,\n",
    "   'ytick.major.pad': 10,\n",
    "   'ytick.major.size': 18,\n",
    "   'ytick.major.width': 2,\n",
    "   'ytick.minor.pad': 3.5,\n",
    "   'ytick.minor.size': 9,\n",
    "   'ytick.minor.visible': True,\n",
    "   'ytick.minor.width': 2,\n",
    "   'text.usetex': False,\n",
    "   'figure.figsize': [10,10],\n",
    "   'savefig.dpi': 500,\n",
    "   }\n",
    "plt.rcParams.update(params)\n",
    "\n",
    "fig_path = '../figures/'\n",
    "data_path = '../data/lightcurves/'\n",
    "mcmc_path_bb = 'broadband_mcmcs/'\n",
    "mcmc_path_qpo = 'qpo_mcmcs/'"
   ]
  },
  {
   "cell_type": "markdown",
   "metadata": {},
   "source": [
    "## Mass Transfer Rates for WD Accretion"
   ]
  },
  {
   "cell_type": "code",
   "execution_count": 4,
   "metadata": {},
   "outputs": [
    {
     "name": "stdout",
     "output_type": "stream",
     "text": [
      "Required mass transfer rate to offset GR at f = 2.34 mHz: 2.8e-04 solar masses / year\n"
     ]
    }
   ],
   "source": [
    "# Equation 8/9 -- assume fdot = 0 and solve for M2dot\n",
    "M1 = 1e6 * const.M_sun \n",
    "M2 = 0.1 * const.M_sun\n",
    "Mtot = M1 + M2\n",
    "q = M2 / M1\n",
    "f = 2.34 * u.mHz\n",
    "M2dot = (M2 / (3 * (1 - q) + np.sqrt(1 + q))) * (96 * const.G**(5/3) * M1 * M2 * (2 * np.pi * f)**(8/3) / (5 * const.c**5 * Mtot**(1/3)))\n",
    "M2dot_Msunperyear = (M2dot / const.M_sun).to(1/u.year).value\n",
    "print('Required mass transfer rate to offset GR at f = 2.34 mHz: {:.1e} solar masses / year'.format(M2dot_Msunperyear))"
   ]
  },
  {
   "cell_type": "code",
   "execution_count": null,
   "metadata": {},
   "outputs": [],
   "source": []
  }
 ],
 "metadata": {
  "kernelspec": {
   "display_name": "base",
   "language": "python",
   "name": "python3"
  },
  "language_info": {
   "codemirror_mode": {
    "name": "ipython",
    "version": 3
   },
   "file_extension": ".py",
   "mimetype": "text/x-python",
   "name": "python",
   "nbconvert_exporter": "python",
   "pygments_lexer": "ipython3",
   "version": "3.9.18"
  }
 },
 "nbformat": 4,
 "nbformat_minor": 2
}
